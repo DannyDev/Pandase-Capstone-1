{
 "cells": [
  {
   "cell_type": "markdown",
   "id": "771ec8bd-a3ae-46a1-9c12-7a8ec91b5554",
   "metadata": {},
   "source": [
    "<h1>PART 1</h1>"
   ]
  },
  {
   "cell_type": "code",
   "execution_count": 4,
   "id": "10ce4e2a-80db-4a2f-bc46-7c5ae76436cb",
   "metadata": {
    "tags": []
   },
   "outputs": [
    {
     "data": {
      "text/plain": [
       "{'BTC': 43285.15,\n",
       " 'ETH': 2318.09,\n",
       " 'ADA': 0.520212,\n",
       " 'AMZN': 171.81,\n",
       " 'TSLA': 187.91,\n",
       " 'AAPL': 185.85}"
      ]
     },
     "execution_count": 4,
     "metadata": {},
     "output_type": "execute_result"
    }
   ],
   "source": [
    "# dictionary with the cuarrent portfolio prices\n",
    "portfolio_prices = {'BTC': 43285.15,\n",
    "                'ETH': 2318.09,\n",
    "                'ADA': 0.520212,\n",
    "                   'AMZN': 171.81,\n",
    "                   'TSLA': 187.91,\n",
    "                   'AAPL':185.85 }\n",
    "portfolio_prices"
   ]
  },
  {
   "cell_type": "code",
   "execution_count": 5,
   "id": "2503d87a-8290-4b04-9702-07c55eed1b5b",
   "metadata": {
    "tags": []
   },
   "outputs": [
    {
     "data": {
      "text/plain": [
       "BTC     43285.150000\n",
       "ETH      2318.090000\n",
       "ADA         0.520212\n",
       "AMZN      171.810000\n",
       "TSLA      187.910000\n",
       "AAPL      185.850000\n",
       "dtype: float64"
      ]
     },
     "execution_count": 5,
     "metadata": {},
     "output_type": "execute_result"
    }
   ],
   "source": [
    "# Pandas series created using the crypto_prices dictionary\n",
    "import pandas as pd\n",
    "import numpy as np\n",
    "portfolio_prices_series = pd.Series(data= portfolio_prices)\n",
    "portfolio_prices_series"
   ]
  },
  {
   "cell_type": "code",
   "execution_count": 6,
   "id": "29620fe2-88f9-4fd5-b9f2-784656af5806",
   "metadata": {
    "tags": []
   },
   "outputs": [
    {
     "data": {
      "text/plain": [
       "BTC        3\n",
       "ETH       10\n",
       "ADA     1000\n",
       "AMZN      20\n",
       "TSLA      20\n",
       "AAPL       5\n",
       "dtype: int64"
      ]
     },
     "execution_count": 6,
     "metadata": {},
     "output_type": "execute_result"
    }
   ],
   "source": [
    "# Portfolio holdings\n",
    "security_assets = pd.Series(data={'BTC': 3,\n",
    "                'ETH': 10,\n",
    "                'ADA': 1000,\n",
    "                   'AMZN': 20,\n",
    "                   'TSLA': 20,\n",
    "                   'AAPL': 5 })\n",
    "security_assets\n"
   ]
  },
  {
   "cell_type": "code",
   "execution_count": 9,
   "id": "f7200d0a-d56b-4dba-8cd5-eae4b04c5473",
   "metadata": {
    "tags": []
   },
   "outputs": [
    {
     "data": {
      "text/plain": [
       "BTC     129855.450\n",
       "ETH      23180.900\n",
       "ADA        520.212\n",
       "AMZN      3436.200\n",
       "TSLA      3758.200\n",
       "AAPL       929.250\n",
       "dtype: float64"
      ]
     },
     "execution_count": 9,
     "metadata": {},
     "output_type": "execute_result"
    }
   ],
   "source": [
    "# portfolio value\n",
    "security_assets_value = security_assets * portfolio_prices_series\n",
    "security_assets_value"
   ]
  },
  {
   "cell_type": "code",
   "execution_count": 27,
   "id": "317a859a-b4d6-42fe-b577-b5af9e94658e",
   "metadata": {
    "tags": []
   },
   "outputs": [
    {
     "name": "stdout",
     "output_type": "stream",
     "text": [
      "Total portfolio value = $161680.21200000003\n"
     ]
    }
   ],
   "source": [
    "print('Total portfolio value = ${}'.format(security_assets_value.sum()))"
   ]
  },
  {
   "cell_type": "markdown",
   "id": "e22be7dd-63aa-4419-ab25-2d82429911c1",
   "metadata": {},
   "source": [
    "<h1>PART 2</h1>"
   ]
  },
  {
   "cell_type": "code",
   "execution_count": 34,
   "id": "59c3b385-9e4b-4e79-ab91-4ef068821022",
   "metadata": {
    "tags": []
   },
   "outputs": [
    {
     "name": "stdout",
     "output_type": "stream",
     "text": [
      "            sp500\n",
      "0     1295.500000\n",
      "1     1289.089966\n",
      "2     1293.670044\n",
      "3     1308.040039\n",
      "4     1314.500000\n",
      "...           ...\n",
      "2154  3327.770020\n",
      "2155  3349.159912\n",
      "2156  3351.280029\n",
      "2157  3360.469971\n",
      "2158  3333.689941\n",
      "\n",
      "[2159 rows x 1 columns]\n"
     ]
    }
   ],
   "source": [
    "#Load data from S&P500 file into a dataframe\n",
    "sp500 = pd.read_csv(\"Panda project 1/S&P500_Prices.csv\")\n",
    "print(sp500)"
   ]
  },
  {
   "cell_type": "code",
   "execution_count": 35,
   "id": "191ef19f-c378-418d-a6ad-6eab3237e11b",
   "metadata": {},
   "outputs": [
    {
     "data": {
      "text/plain": [
       "pandas.core.frame.DataFrame"
      ]
     },
     "execution_count": 35,
     "metadata": {},
     "output_type": "execute_result"
    }
   ],
   "source": [
    "type(sp500)"
   ]
  },
  {
   "cell_type": "code",
   "execution_count": 40,
   "id": "39e7f63d-ef6a-4b5c-9659-cffcbd2c31e4",
   "metadata": {
    "tags": []
   },
   "outputs": [
    {
     "name": "stdout",
     "output_type": "stream",
     "text": [
      "0       1295.500000\n",
      "1       1289.089966\n",
      "2       1293.670044\n",
      "3       1308.040039\n",
      "4       1314.500000\n",
      "           ...     \n",
      "2154    3327.770020\n",
      "2155    3349.159912\n",
      "2156    3351.280029\n",
      "2157    3360.469971\n",
      "2158    3333.689941\n",
      "Name: sp500, Length: 2159, dtype: float64\n"
     ]
    }
   ],
   "source": [
    "# convert dataframe into a series\n",
    "sp500_series = sp500.squeeze('columns')\n",
    "print(sp500_series)"
   ]
  },
  {
   "cell_type": "code",
   "execution_count": 41,
   "id": "2de3944b-4185-48d8-8e8c-2ec50c13bec7",
   "metadata": {
    "tags": []
   },
   "outputs": [
    {
     "data": {
      "text/plain": [
       "pandas.core.series.Series"
      ]
     },
     "execution_count": 41,
     "metadata": {},
     "output_type": "execute_result"
    }
   ],
   "source": [
    "type(sp500_series)"
   ]
  },
  {
   "cell_type": "code",
   "execution_count": 42,
   "id": "09ff6f78-b5de-4b92-9f20-d09d3298b3ca",
   "metadata": {
    "tags": []
   },
   "outputs": [
    {
     "data": {
      "text/plain": [
       "3386.149902"
      ]
     },
     "execution_count": 42,
     "metadata": {},
     "output_type": "execute_result"
    }
   ],
   "source": [
    "sp500_series.max()"
   ]
  },
  {
   "cell_type": "code",
   "execution_count": 43,
   "id": "c2856138-5b7f-47f6-8586-e7d81eeab54e",
   "metadata": {
    "tags": []
   },
   "outputs": [
    {
     "data": {
      "text/plain": [
       "1278.040039"
      ]
     },
     "execution_count": 43,
     "metadata": {},
     "output_type": "execute_result"
    }
   ],
   "source": [
    "sp500_series.min()"
   ]
  },
  {
   "cell_type": "code",
   "execution_count": 44,
   "id": "7e654841-f75b-4e28-8006-cac7b3f2bf32",
   "metadata": {
    "tags": []
   },
   "outputs": [
    {
     "data": {
      "text/plain": [
       "2218.7495540592868"
      ]
     },
     "execution_count": 44,
     "metadata": {},
     "output_type": "execute_result"
    }
   ],
   "source": [
    "sp500_series.mean()"
   ]
  },
  {
   "cell_type": "code",
   "execution_count": 51,
   "id": "1132de01-1bdb-4c2a-bf46-2518e8d9a0d3",
   "metadata": {
    "tags": []
   },
   "outputs": [
    {
     "name": "stdout",
     "output_type": "stream",
     "text": [
      "97      1278.040039\n",
      "98      1278.180054\n",
      "99      1285.500000\n",
      "1       1289.089966\n",
      "2       1293.670044\n",
      "           ...     \n",
      "2038    3373.229980\n",
      "2034    3373.939941\n",
      "2033    3379.449951\n",
      "2035    3380.159912\n",
      "2037    3386.149902\n",
      "Name: sp500, Length: 2159, dtype: float64\n"
     ]
    }
   ],
   "source": [
    "sp500_series = sp500_series.sort_values()\n",
    "print(sp500_series)\n"
   ]
  },
  {
   "cell_type": "code",
   "execution_count": 53,
   "id": "071bfab3-fefa-4989-9d88-26c660b5989f",
   "metadata": {
    "tags": []
   },
   "outputs": [
    {
     "name": "stdout",
     "output_type": "stream",
     "text": [
      "2037    3386.149902\n",
      "2035    3380.159912\n",
      "2033    3379.449951\n",
      "2034    3373.939941\n",
      "2038    3373.229980\n",
      "           ...     \n",
      "2       1293.670044\n",
      "1       1289.089966\n",
      "99      1285.500000\n",
      "98      1278.180054\n",
      "97      1278.040039\n",
      "Name: sp500, Length: 2159, dtype: float64\n"
     ]
    }
   ],
   "source": [
    "sp500_series = sp500_series.sort_values(ascending=False)\n",
    "print(sp500_series)"
   ]
  },
  {
   "cell_type": "code",
   "execution_count": 55,
   "id": "f9a98b37-b435-4f80-ba20-31da22605d8f",
   "metadata": {
    "tags": []
   },
   "outputs": [
    {
     "data": {
      "text/plain": [
       "count    2159.000000\n",
       "mean     2218.749554\n",
       "std       537.321727\n",
       "min      1278.040039\n",
       "25%      1847.984985\n",
       "50%      2106.629883\n",
       "75%      2705.810059\n",
       "max      3386.149902\n",
       "Name: sp500, dtype: float64"
      ]
     },
     "execution_count": 55,
     "metadata": {},
     "output_type": "execute_result"
    }
   ],
   "source": [
    "sp500_series.describe()"
   ]
  },
  {
   "cell_type": "code",
   "execution_count": 68,
   "id": "7e132d79-17f1-4df3-831d-246cb5fe08d6",
   "metadata": {
    "tags": []
   },
   "outputs": [
    {
     "name": "stdout",
     "output_type": "stream",
     "text": [
      "The Standard deviation is:  537.321726887476\n"
     ]
    }
   ],
   "source": [
    "print(\"The Standard deviation is: \", sp500_series.std())"
   ]
  },
  {
   "cell_type": "code",
   "execution_count": 61,
   "id": "934839fc-8356-4e06-965c-f7d6c7c62faa",
   "metadata": {
    "tags": []
   },
   "outputs": [
    {
     "data": {
      "text/plain": [
       "False"
      ]
     },
     "execution_count": 61,
     "metadata": {},
     "output_type": "execute_result"
    }
   ],
   "source": [
    "3349 in sp500_series.values"
   ]
  },
  {
   "cell_type": "code",
   "execution_count": 66,
   "id": "d140904d-2844-4100-8b4f-a45a4973d67b",
   "metadata": {
    "tags": []
   },
   "outputs": [
    {
     "data": {
      "text/plain": [
       "True"
      ]
     },
     "execution_count": 66,
     "metadata": {},
     "output_type": "execute_result"
    }
   ],
   "source": [
    "3349 in sp500_series.round().values"
   ]
  },
  {
   "cell_type": "code",
   "execution_count": 72,
   "id": "be9c5dea-16e5-441f-989b-13bbc4277d6a",
   "metadata": {
    "tags": []
   },
   "outputs": [
    {
     "data": {
      "text/plain": [
       "0    100\n",
       "1    100\n",
       "2    300\n",
       "3     50\n",
       "4    100\n",
       "dtype: int64"
      ]
     },
     "execution_count": 72,
     "metadata": {},
     "output_type": "execute_result"
    }
   ],
   "source": [
    "my_series = pd.Series(data = [-100, 100, -300, 50, 100])\n",
    "abs(my_series)"
   ]
  },
  {
   "cell_type": "code",
   "execution_count": null,
   "id": "c6af47d4-d0a3-4cf1-b9da-d9027b92cccc",
   "metadata": {},
   "outputs": [],
   "source": []
  }
 ],
 "metadata": {
  "kernelspec": {
   "display_name": "Python 3 (ipykernel)",
   "language": "python",
   "name": "python3"
  },
  "language_info": {
   "codemirror_mode": {
    "name": "ipython",
    "version": 3
   },
   "file_extension": ".py",
   "mimetype": "text/x-python",
   "name": "python",
   "nbconvert_exporter": "python",
   "pygments_lexer": "ipython3",
   "version": "3.11.5"
  }
 },
 "nbformat": 4,
 "nbformat_minor": 5
}
